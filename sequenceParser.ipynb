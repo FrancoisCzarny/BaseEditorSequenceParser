{
 "cells": [
  {
   "cell_type": "code",
   "execution_count": 6,
   "metadata": {},
   "outputs": [],
   "source": [
    "import os\n",
    "import sys\n",
    "\n",
    "\n",
    "MAP_BASE = {'n': 'n', \n",
    "            'g': 'c', 'c': 'g',\n",
    "            'a': 't', 't': 'a'}\n",
    "\n",
    "\n",
    "def pam_reverse_strand(pam):\n",
    "    pam_reversed = pam.lower()\n",
    "    return ''.join([s.replace(s, MAP_BASE[s]) for s in pam_reversed])[::-1]\n",
    "\n",
    "\n",
    "def compute_possible_pam(pam):\n",
    "    return [i.replace('n', j) for i, j in zip([pam] * 4, ['c', 'g', 'a', 't'])]\n",
    "\n",
    "\n",
    "def upper_codon_inframe(text_file, pam, search_sequence=[\"tgg\", \"cag\", 'cga', 'caa']):\n",
    "    file_path = text_file\n",
    "    \n",
    "    l = list(os.path.splitext(file_path))\n",
    "    l.insert(1, '_parsed')\n",
    "    list_res = list()\n",
    "\n",
    "    with open(file_path, 'r+') as f:\n",
    "        s = f.read()\n",
    "        \n",
    "    # validate file\n",
    "    if (s[0:3].lower() != 'atg') or (len(s)%3 != 0):\n",
    "        raise TypeError('Wrong file content: This is not a cDNA sequence.')\n",
    "        sys.exit()\n",
    "\n",
    "    possible_pam = compute_possible_pam(pam)\n",
    "    print(possible_pam)\n",
    "    pam_reversed = pam_reverse_strand(pam)\n",
    "    print(pam_reversed)\n",
    "    possible_rev_pam = compute_possible_pam(pam_reversed)\n",
    "    print(possible_rev_pam)\n",
    "\n",
    "    list_res = []\n",
    "    for i in range(0, len(s), 3):\n",
    "        codon = s[i:i+3]\n",
    "        if (codon in search_sequence):\n",
    "            if  (codon[0] == 'c') and any([p in s[i+13:i+22] for p in possible_pam]):\n",
    "                list_res.append(codon.upper())\n",
    "                print(codon.upper(), s[i:i+22])\n",
    "            elif (codon[0] == 't') and any([p in s[i-21:i-12] for p in possible_rev_pam]):\n",
    "                list_res.append(codon.upper())\n",
    "                print(codon.upper(), s[i-21:i])\n",
    "            else:\n",
    "                list_res.append(codon)\n",
    "        else:\n",
    "            list_res.append(codon)\n",
    "\n",
    "    res = ''.join(list_res)\n",
    "    \n",
    "    with open(''.join(l), \"w+\") as io_handler:\n",
    "        io_handler.write(res)\n",
    "\n",
    "\n",
    "if __name__ == \"__main__\":\n",
    "    param = sys.argv[1]\n",
    "    pam = input('Which PAM? ')\n",
    "    print(\"\\t ---- Parsing file for PAM ({}): {} ----\".format(pam, param))\n",
    "    upper_codon_inframe(param, pam)"
   ]
  },
  {
   "cell_type": "code",
   "execution_count": 6,
   "metadata": {},
   "outputs": [
    {
     "name": "stdin",
     "output_type": "stream",
     "text": [
      "Which PAM?  TGG\n"
     ]
    }
   ],
   "source": [
    "var = input('Which PAM? ')"
   ]
  },
  {
   "cell_type": "code",
   "execution_count": 8,
   "metadata": {},
   "outputs": [
    {
     "name": "stdin",
     "output_type": "stream",
     "text": [
      "Which PAM?  ngg\n"
     ]
    },
    {
     "name": "stdout",
     "output_type": "stream",
     "text": [
      "\t ---- Parsing file for PAM (ngg): /Users/francoisczarny/Documents/code_marion/rb1_err2.txt ----\n"
     ]
    },
    {
     "ename": "TypeError",
     "evalue": "Wrong file content: This is not a cDNA sequence.",
     "output_type": "error",
     "traceback": [
      "\u001b[0;31m---------------------------------------------------------------------------\u001b[0m",
      "\u001b[0;31mTypeError\u001b[0m                                 Traceback (most recent call last)",
      "\u001b[0;32m<ipython-input-8-4b04c7a99f8d>\u001b[0m in \u001b[0;36m<module>\u001b[0;34m\u001b[0m\n\u001b[1;32m      2\u001b[0m \u001b[0mpam\u001b[0m \u001b[0;34m=\u001b[0m \u001b[0minput\u001b[0m\u001b[0;34m(\u001b[0m\u001b[0;34m'Which PAM? '\u001b[0m\u001b[0;34m)\u001b[0m\u001b[0;34m\u001b[0m\u001b[0;34m\u001b[0m\u001b[0m\n\u001b[1;32m      3\u001b[0m \u001b[0mprint\u001b[0m\u001b[0;34m(\u001b[0m\u001b[0;34m\"\\t ---- Parsing file for PAM ({}): {} ----\"\u001b[0m\u001b[0;34m.\u001b[0m\u001b[0mformat\u001b[0m\u001b[0;34m(\u001b[0m\u001b[0mpam\u001b[0m\u001b[0;34m,\u001b[0m \u001b[0mparam\u001b[0m\u001b[0;34m)\u001b[0m\u001b[0;34m)\u001b[0m\u001b[0;34m\u001b[0m\u001b[0;34m\u001b[0m\u001b[0m\n\u001b[0;32m----> 4\u001b[0;31m \u001b[0mupper_codon_inframe\u001b[0m\u001b[0;34m(\u001b[0m\u001b[0mparam\u001b[0m\u001b[0;34m,\u001b[0m \u001b[0mpam\u001b[0m\u001b[0;34m)\u001b[0m\u001b[0;34m\u001b[0m\u001b[0;34m\u001b[0m\u001b[0m\n\u001b[0m",
      "\u001b[0;32m<ipython-input-6-03b0ef48a517>\u001b[0m in \u001b[0;36mupper_codon_inframe\u001b[0;34m(text_file, pam, search_sequence)\u001b[0m\n\u001b[1;32m     29\u001b[0m     \u001b[0;31m# validate file\u001b[0m\u001b[0;34m\u001b[0m\u001b[0;34m\u001b[0m\u001b[0;34m\u001b[0m\u001b[0m\n\u001b[1;32m     30\u001b[0m     \u001b[0;32mif\u001b[0m \u001b[0;34m(\u001b[0m\u001b[0ms\u001b[0m\u001b[0;34m[\u001b[0m\u001b[0;36m0\u001b[0m\u001b[0;34m:\u001b[0m\u001b[0;36m3\u001b[0m\u001b[0;34m]\u001b[0m\u001b[0;34m.\u001b[0m\u001b[0mlower\u001b[0m\u001b[0;34m(\u001b[0m\u001b[0;34m)\u001b[0m \u001b[0;34m!=\u001b[0m \u001b[0;34m'atg'\u001b[0m\u001b[0;34m)\u001b[0m \u001b[0;32mor\u001b[0m \u001b[0;34m(\u001b[0m\u001b[0mlen\u001b[0m\u001b[0;34m(\u001b[0m\u001b[0ms\u001b[0m\u001b[0;34m)\u001b[0m\u001b[0;34m%\u001b[0m\u001b[0;36m3\u001b[0m \u001b[0;34m!=\u001b[0m \u001b[0;36m0\u001b[0m\u001b[0;34m)\u001b[0m\u001b[0;34m:\u001b[0m\u001b[0;34m\u001b[0m\u001b[0;34m\u001b[0m\u001b[0m\n\u001b[0;32m---> 31\u001b[0;31m         \u001b[0;32mraise\u001b[0m \u001b[0mTypeError\u001b[0m\u001b[0;34m(\u001b[0m\u001b[0;34m'Wrong file content: This is not a cDNA sequence.'\u001b[0m\u001b[0;34m)\u001b[0m\u001b[0;34m\u001b[0m\u001b[0;34m\u001b[0m\u001b[0m\n\u001b[0m\u001b[1;32m     32\u001b[0m         \u001b[0msys\u001b[0m\u001b[0;34m.\u001b[0m\u001b[0mexit\u001b[0m\u001b[0;34m(\u001b[0m\u001b[0;34m)\u001b[0m\u001b[0;34m\u001b[0m\u001b[0;34m\u001b[0m\u001b[0m\n\u001b[1;32m     33\u001b[0m \u001b[0;34m\u001b[0m\u001b[0m\n",
      "\u001b[0;31mTypeError\u001b[0m: Wrong file content: This is not a cDNA sequence."
     ]
    }
   ],
   "source": [
    "param = '/Users/francoisczarny/Documents/code_marion/rb1_err2.txt'\n",
    "pam = input('Which PAM? ')\n",
    "print(\"\\t ---- Parsing file for PAM ({}): {} ----\".format(pam, param))\n",
    "upper_codon_inframe(param, pam)"
   ]
  },
  {
   "cell_type": "code",
   "execution_count": 5,
   "metadata": {},
   "outputs": [
    {
     "name": "stdout",
     "output_type": "stream",
     "text": [
      "total 48\n",
      "-rw-r--r--  1 francoisczarny  staff  7412  6 déc 21:57 code_marion.ipynb\n",
      "-rw-r--r--@ 1 francoisczarny  staff  2715 18 oct 00:14 rb1.txt\n",
      "-rw-r--r--  1 francoisczarny  staff  2715  6 déc 21:57 rb1_parsed.txt\n",
      "-rw-r--r--@ 1 francoisczarny  staff  1304  3 déc 22:30 sequenceParser.py\n",
      "-rw-r--r--@ 1 francoisczarny  staff  2171  3 déc 22:47 sequenceParserEditor.py\n"
     ]
    }
   ],
   "source": [
    "!ls -l"
   ]
  },
  {
   "cell_type": "code",
   "execution_count": 6,
   "metadata": {},
   "outputs": [
    {
     "name": "stdout",
     "output_type": "stream",
     "text": [
      "atgccgccgaagaagcgcagcagcgggaccccaCAGaagaaagagctgaaggggagcctgaagagcCGAtctccggacagcggcgacaacgcagtgcttagtccggaacgacacaaggacaaggatcctgagtttgtgtttctcagcgaggagctccagtccactaactccatctgtgatcatgcatggagaatatgggagagggagatcagatcgatggacaagacaaatatgccgtattcgaacagacagcagtggggagcttgtctttttattgctggcatggagcttgaaggcatcaacctcacttttacgCAGttcctgaaagcagttggtctgagtgtgaagCAGttcatcagtcttgtgaggaagatggatgtaaatgtagacacaataagtcctaaagtgaactctgctgtgacccgcctagagaacaaatacgatgtgactttggccctctaccaaagatttgtaaagacttgtgagaaaatctttgcagagcctgacaatgcaaagagaaaagagctgtgggaaagcagctggaccatgttcctcctggccaagggaacatttctgcagatggaagatgaccttgtgatctccttcCAGttgctgctgtgcgttctggagtttttcgccaagcgtttgagtccgtctctccttCAGtcgccctacaagtcggtggttagttcctctaccctgagtcctccgaccaggacatcacgccgtaatcagggcaaaagcaaaccccgtcctgcagagatggacatgcaactgctggagacgctgtgcaaggagggagactgcagtgttgatgaggtgaaaaacgtgtaccagagcactttctgtgccttcctggactctgtgggtcttttaggtctcCAAgggcttcctccaatggaagcgctttccaagcaatatgaagagttgtatcacaaaagcaaggactttgatgctaggcttttcttgtctgacgatgagactctttctcccaataaaatcgaagtgtcaaaggtagaagttactccaagaaagaatctgtttgcagaggacattgcaattccagttcctcaaactccaatcagggctgcgatgacctccatacagcagctcaggggtgacctcacctcagggagtgacCAGccttctagcaatctgctggtctattacaagaactgcactgttgacccatctggggagatcaaaaagagggttgaggagcttggtgaggtcttcatccagaggtttgctcaggctgttggtCAGcactgtgaggggctcggcagaaagcgtttttatcttggtgctCAGctctactacaaagtaatggagtccatgcttaaatcggaggagaagaggttatcagtgcagaactttagtaaacttctcaacaatgcagcgtttcatacatcattgcttgcatgcgctctggaggttgttatagcaacctatgttgggagctccttaaagaatggaggttttggccgtagttcaggggccagcgattccgttgaaagcgatctgtgctttccttggattttgagtgtcttccagctgcctgctttcgacttttacaaggtgatcgagagcttcattaaagccgagcccaccctgaaacatgacatggtgaagcacctggagCAGtgcgaacatgtgatcatggagagtcttgcatggagagcggactctccactgtttgacctgctcaaaCAGtctcgcgaggaaggacccggtgaacaagcagagccccctgcaacactcaaccagcccctccatcacaaccacacggctgctgatctgtatctctctcctgtccggccatgtcgtCAAccccctgtaatggaggccgagccccccacaccaggcaccagagccccccgttcaaactcactgagccttttctacaagaaattgtacaggatggcctacctgcgactgaagatgctgttctccaatctgctgacctcacatccagaaatggagccaataatatggactctgcttcagcacaccctccagaacgagtatgaattaatgcgggacagacacttagatcagttgatcatgtcagccatgtatgccatatgcaaggtgaaaaacgtggatttgcgcttcaaaactattgtgactgcttacaaagagctgccaaatactaatcaagagacattcaagcgtgtgctgatcagagagggtcaatacgactccatcatcgtcttctacaacctggtgttcatgcagaagctgaagactaacattctcCAGtattcctctcctcggccaccgcctctgtctcccattccccacatcccctgcagcccctataaaaactctccccttcgggttcctggcagcaataatgtttacgtgtctcctctgaaaagcagccgtgtgtctcctctggtcatgaccccgcggagcagaattcttatatccattggcgaatcctttgggtcggcagacaaatttCAGaagatcaatcagatggtgagcagctctgactggtcactcaagaggagtctggatggaggctccgcccccaaacccctgaagaggctgcgctttgacatggacggaCAAgatgaagcagacggaagcaaatccagtggcgagtcagcactgatccagaagctggctgagatgagctcgacacgttctcgaatgCAGgaacagaaactgaaagaggagtctgataaagatcatccagagccctaacga"
     ]
    }
   ],
   "source": [
    "!cat /Users/francoisczarny/Documents/code_marion/rb1_parsed.txt"
   ]
  },
  {
   "cell_type": "code",
   "execution_count": 7,
   "metadata": {},
   "outputs": [],
   "source": [
    "def pam_reverse_strand(pam):\n",
    "    map_bases = {'n': 'n', \n",
    "             'g': 'c', 'c': 'g',\n",
    "             'a': 't', 't': 'a'}\n",
    "    pam_reversed = pam.lower()\n",
    "    return ''.join([s.replace(s, map_bases[s]) for s in pam_reversed])[::-1]\n",
    "\n",
    "\n",
    "def compute_possible_pam(pam):\n",
    "    return [i.replace('n', j) for i, j in zip([pam] * 4, ['c', 'g', 'a', 't'])]"
   ]
  },
  {
   "cell_type": "code",
   "execution_count": 10,
   "metadata": {},
   "outputs": [
    {
     "name": "stdout",
     "output_type": "stream",
     "text": [
      "['cgg', 'ggg', 'agg', 'tgg']\n",
      "ccn\n",
      "['ccc', 'ccg', 'cca', 'cct']\n",
      "CAG cagaagaaagagctgaagggga\n",
      "CGA cgatctccggacagcggcgaca\n",
      "CAG cagttcctgaaagcagttggtc\n",
      "CAG cagttcatcagtcttgtgagga\n",
      "CAG cagttgctgctgtgcgttctgg\n",
      "CAG cagtcgccctacaagtcggtgg\n",
      "CAA caagggcttcctccaatggaag\n",
      "CAG cagccttctagcaatctgctgg\n",
      "CAG cagcactgtgaggggctcggca\n",
      "CAG cagctctactacaaagtaatgg\n",
      "CAG cagtgcgaacatgtgatcatgg\n",
      "CAG cagtctcgcgaggaaggacccg\n",
      "CAA caaccccctgtaatggaggccg\n",
      "CAG cagtattcctctcctcggccac\n",
      "CAG cagaagatcaatcagatggtga\n",
      "CAA caagatgaagcagacggaagca\n",
      "CAG caggaacagaaactgaaagagg\n"
     ]
    }
   ],
   "source": [
    "file_path = '/Users/francoisczarny/Documents/code_marion/rb1.txt'\n",
    "\n",
    "search_sequence=[\"tgg\", \"cag\", 'cga', 'caa']\n",
    "pam = 'ngg'  # raw_input('Which PAM? ').lower()\n",
    "\n",
    "possible_pam = compute_possible_pam(pam)\n",
    "print(possible_pam)\n",
    "pam_reversed = pam_reverse_strand(pam)\n",
    "print(pam_reversed)\n",
    "possible_rev_pam = compute_possible_pam(pam_reversed)\n",
    "print(possible_rev_pam)\n",
    "\n",
    "with open(file_path, 'r+') as f:\n",
    "    s = f.read()\n",
    "\n",
    "list_res = []\n",
    "\n",
    "for i in range(0, len(s), 3):\n",
    "    codon = s[i:i+3]\n",
    "    if (codon in search_sequence):\n",
    "        if  (codon[0] == 'c') and any([p in s[i+14:i+22] for p in possible_pam]):\n",
    "            list_res.append(codon.upper())\n",
    "            print(codon.upper(), s[i:i+22])\n",
    "        elif (codon[0] == 't') and any([p in s[i-12:i-21] for p in possible_rev_pam]):\n",
    "            list_res.append(codon.upper())\n",
    "            print(codon.upper(), s[i-21:i])\n",
    "        else:\n",
    "            list_res.append(codon)\n",
    "    else:\n",
    "        list_res.append(codon)\n",
    "\n",
    "res = ''.join(list_res)"
   ]
  },
  {
   "cell_type": "code",
   "execution_count": null,
   "metadata": {},
   "outputs": [],
   "source": []
  }
 ],
 "metadata": {
  "kernelspec": {
   "display_name": "Python [conda env:root] *",
   "language": "python",
   "name": "conda-root-py"
  },
  "language_info": {
   "codemirror_mode": {
    "name": "ipython",
    "version": 3
   },
   "file_extension": ".py",
   "mimetype": "text/x-python",
   "name": "python",
   "nbconvert_exporter": "python",
   "pygments_lexer": "ipython3",
   "version": "3.7.4"
  }
 },
 "nbformat": 4,
 "nbformat_minor": 4
}
